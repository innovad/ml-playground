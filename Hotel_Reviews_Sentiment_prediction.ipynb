{
  "nbformat": 4,
  "nbformat_minor": 0,
  "metadata": {
    "colab": {
      "name": "Hotel Reviews Sentiment prediction.ipynb",
      "provenance": [],
      "collapsed_sections": [],
      "toc_visible": true,
      "authorship_tag": "ABX9TyM7y+r8JjHNUEfflwWZmwng"
    },
    "kernelspec": {
      "name": "python3",
      "display_name": "Python 3"
    },
    "language_info": {
      "name": "python"
    }
  },
  "cells": [
    {
      "cell_type": "markdown",
      "source": [
        "# Sentiment Prediction of Tripadvisor Hotel Reviews\n",
        "* Inspired by https://www.kaggle.com/shahraizanwar/hotel-reviews-sentiment-prediction\n",
        "* Using pandas and TensorFlow\n"
      ],
      "metadata": {
        "id": "jxsHTmaHLoBE"
      }
    },
    {
      "cell_type": "code",
      "execution_count": 62,
      "metadata": {
        "id": "DlQfriIELgl2"
      },
      "outputs": [],
      "source": [
        "import pandas as pd\n",
        "import tensorflow as tf\n",
        "from tensorflow.keras.preprocessing.text import Tokenizer\n",
        "from tensorflow.keras.preprocessing.sequence import pad_sequences"
      ]
    },
    {
      "cell_type": "code",
      "source": [
        "data = pd.read_csv('https://raw.githubusercontent.com/innovad/ml-playground/main/tripadvisor_hotel_reviews.csv')\n",
        "data.head()\n",
        "print('Number of lines: ' + str(len(data)))\n",
        "print('Possible rating numbers: ', end='')\n",
        "print(data['Rating'].unique())\n",
        "print ('Max words in Review: ', end='') \n",
        "max(data[\"Review\"].apply(lambda x: len(str(x).split(' '))))"
      ],
      "metadata": {
        "colab": {
          "base_uri": "https://localhost:8080/"
        },
        "id": "Wvnb4CToM-wH",
        "outputId": "8053293e-cfdc-47a6-a54e-345c7d4cc1bf"
      },
      "execution_count": 53,
      "outputs": [
        {
          "output_type": "stream",
          "name": "stdout",
          "text": [
            "Number of lines: 20491\n",
            "Possible rating numbers: [4 2 3 5 1]\n",
            "Max words in Review: "
          ]
        },
        {
          "output_type": "execute_result",
          "data": {
            "text/plain": [
              "1933"
            ]
          },
          "metadata": {},
          "execution_count": 53
        }
      ]
    },
    {
      "cell_type": "code",
      "source": [
        "tokenizer = Tokenizer()\n",
        "tokenizer.fit_on_texts(data[\"Review\"])\n",
        "\n",
        "X = tokenizer.texts_to_sequences(data[\"Review\"])\n",
        "\n",
        "max_length = max([len(x) for x in X])\n",
        "vocab_size = len(tokenizer.word_index)+1\n",
        "exp_sen = 1\n",
        "\n",
        "print(\"Vocabulary size: {}\".format(vocab_size))\n",
        "print(\"max length of sentence: {}\".format(max_length))\n",
        "print(\"\\nExample:\\n\")\n",
        "print(\"Sentence:\\n{}\".format(data[\"Review\"][exp_sen]))\n",
        "print(\"\\nAfter tokenizing :\\n{}\".format(X[exp_sen]))\n",
        "\n",
        "X = pad_sequences(X, padding='post', maxlen=350)\n",
        "print(\"\\nAfter padding :\\n{}\".format(X[exp_sen]))"
      ],
      "metadata": {
        "colab": {
          "base_uri": "https://localhost:8080/"
        },
        "id": "xeqEoN_aWmH0",
        "outputId": "64e17046-d475-4947-a858-37cbd4024400"
      },
      "execution_count": 63,
      "outputs": [
        {
          "output_type": "stream",
          "name": "stdout",
          "text": [
            "Vocabulary size: 52212\n",
            "max length of sentence: 2012\n",
            "\n",
            "Example:\n",
            "\n",
            "Sentence:\n",
            "ok nothing special charge diamond member hilton decided chain shot 20th anniversary seattle, start booked suite paid extra website description not, suite bedroom bathroom standard hotel room, took printed reservation desk showed said things like tv couch ect desk clerk told oh mixed suites description kimpton website sorry free breakfast, got kidding, embassy suits sitting room bathroom bedroom unlike kimpton calls suite, 5 day stay offer correct false advertising, send kimpton preferred guest website email asking failure provide suite advertised website reservation description furnished hard copy reservation printout website desk manager duty did not reply solution, send email trip guest survey did not follow email mail, guess tell concerned guest.the staff ranged indifferent not helpful, asked desk good breakfast spots neighborhood hood told no hotels, gee best breakfast spots seattle 1/2 block away convenient hotel does not know exist, arrived late night 11 pm inside run bellman busy chating cell phone help bags.prior arrival emailed hotel inform 20th anniversary half really picky wanted make sure good, got nice email saying like deliver bottle champagne chocolate covered strawberries room arrival celebrate, told needed foam pillows, arrival no champagne strawberries no foam pillows great room view alley high rise building good not better housekeeping staff cleaner room property, impressed left morning shopping room got short trips 2 hours, beds comfortable.not good ac-heat control 4 x 4 inch screen bring green shine directly eyes night, light sensitive tape controls.this not 4 start hotel clean business hotel super high rates, better chain hotels seattle,  \n",
            "\n",
            "After tokenizing :\n",
            "[148, 145, 279, 340, 1653, 897, 508, 370, 991, 3104, 2590, 908, 536, 386, 71, 178, 231, 205, 399, 3267, 3, 178, 438, 46, 276, 1, 2, 100, 3105, 364, 56, 1063, 130, 141, 24, 188, 1978, 4039, 56, 1248, 121, 764, 1103, 533, 3267, 3675, 399, 1279, 62, 21, 36, 4493, 2109, 3317, 634, 2, 46, 438, 1427, 3675, 1104, 178, 41, 20, 8, 400, 1842, 4494, 5494, 1376, 3675, 1450, 411, 399, 988, 894, 10737, 786, 178, 1788, 399, 364, 3267, 1131, 208, 3505, 364, 7114, 399, 56, 337, 1715, 9, 3, 3994, 4495, 1376, 988, 48, 411, 7319, 9, 3, 2260, 988, 1692, 625, 424, 1162, 411, 28, 7, 4634, 3374, 3, 40, 137, 56, 6, 21, 1412, 825, 14822, 121, 13, 63, 13353, 39, 21, 1412, 536, 91, 30, 348, 67, 302, 1, 229, 3, 129, 4147, 108, 246, 17, 451, 703, 577, 405, 1898, 327, 26246, 2409, 440, 238, 458, 871, 322, 2355, 1, 4560, 2590, 908, 369, 27, 1136, 164, 69, 119, 6, 36, 11, 988, 803, 24, 2914, 499, 773, 994, 1256, 3752, 2, 322, 2047, 121, 274, 5495, 565, 322, 13, 773, 3752, 13, 5495, 565, 4, 2, 51, 2289, 203, 3268, 216, 6, 3, 64, 494, 7, 2431, 2, 287, 469, 126, 88, 186, 2, 36, 226, 767, 30, 204, 115, 55, 3, 6, 1132, 1091, 1478, 66, 3042, 66, 3318, 708, 271, 1220, 6096, 545, 2356, 17, 372, 3197, 8385, 4040, 721, 3, 66, 386, 1, 22, 221, 1, 569, 203, 852, 64, 991, 63, 536]\n",
            "\n",
            "After padding :\n",
            "[  148   145   279   340  1653   897   508   370   991  3104  2590   908\n",
            "   536   386    71   178   231   205   399  3267     3   178   438    46\n",
            "   276     1     2   100  3105   364    56  1063   130   141    24   188\n",
            "  1978  4039    56  1248   121   764  1103   533  3267  3675   399  1279\n",
            "    62    21    36  4493  2109  3317   634     2    46   438  1427  3675\n",
            "  1104   178    41    20     8   400  1842  4494  5494  1376  3675  1450\n",
            "   411   399   988   894 10737   786   178  1788   399   364  3267  1131\n",
            "   208  3505   364  7114   399    56   337  1715     9     3  3994  4495\n",
            "  1376   988    48   411  7319     9     3  2260   988  1692   625   424\n",
            "  1162   411    28     7  4634  3374     3    40   137    56     6    21\n",
            "  1412   825 14822   121    13    63 13353    39    21  1412   536    91\n",
            "    30   348    67   302     1   229     3   129  4147   108   246    17\n",
            "   451   703   577   405  1898   327 26246  2409   440   238   458   871\n",
            "   322  2355     1  4560  2590   908   369    27  1136   164    69   119\n",
            "     6    36    11   988   803    24  2914   499   773   994  1256  3752\n",
            "     2   322  2047   121   274  5495   565   322    13   773  3752    13\n",
            "  5495   565     4     2    51  2289   203  3268   216     6     3    64\n",
            "   494     7  2431     2   287   469   126    88   186     2    36   226\n",
            "   767    30   204   115    55     3     6  1132  1091  1478    66  3042\n",
            "    66  3318   708   271  1220  6096   545  2356    17   372  3197  8385\n",
            "  4040   721     3    66   386     1    22   221     1   569   203   852\n",
            "    64   991    63   536     0     0     0     0     0     0     0     0\n",
            "     0     0     0     0     0     0     0     0     0     0     0     0\n",
            "     0     0     0     0     0     0     0     0     0     0     0     0\n",
            "     0     0     0     0     0     0     0     0     0     0     0     0\n",
            "     0     0     0     0     0     0     0     0     0     0     0     0\n",
            "     0     0     0     0     0     0     0     0     0     0     0     0\n",
            "     0     0     0     0     0     0     0     0     0     0     0     0\n",
            "     0     0     0     0     0     0     0     0     0     0     0     0\n",
            "     0     0]\n"
          ]
        }
      ]
    }
  ]
}