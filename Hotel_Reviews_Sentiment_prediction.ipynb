{
  "nbformat": 4,
  "nbformat_minor": 0,
  "metadata": {
    "colab": {
      "name": "Hotel Reviews Sentiment prediction.ipynb",
      "provenance": [],
      "collapsed_sections": [],
      "toc_visible": true,
      "authorship_tag": "ABX9TyOMNUxtPALtRfiPyGgbFoHL"
    },
    "kernelspec": {
      "name": "python3",
      "display_name": "Python 3"
    },
    "language_info": {
      "name": "python"
    }
  },
  "cells": [
    {
      "cell_type": "markdown",
      "source": [
        "# Sentiment Prediction of Tripadvisor Hotel Reviews\n",
        "* Inspired by https://www.kaggle.com/shahraizanwar/hotel-reviews-sentiment-prediction\n",
        "* Using pandas and TensorFlow\n"
      ],
      "metadata": {
        "id": "jxsHTmaHLoBE"
      }
    },
    {
      "cell_type": "code",
      "execution_count": 62,
      "metadata": {
        "id": "DlQfriIELgl2"
      },
      "outputs": [],
      "source": [
        "import pandas as pd\n",
        "import tensorflow as tf\n",
        "from tensorflow.keras.preprocessing.text import Tokenizer\n",
        "from tensorflow.keras.preprocessing.sequence import pad_sequences"
      ]
    },
    {
      "cell_type": "code",
      "source": [
        "data = pd.read_csv('https://raw.githubusercontent.com/innovad/ml-playground/main/tripadvisor_hotel_reviews.csv')\n",
        "data.head()\n",
        "print('Number of lines: ' + str(len(data)))\n",
        "print('Possible rating numbers: ', end='')\n",
        "print(data['Rating'].unique())\n",
        "print ('Max words in Review: ', end='') \n",
        "max(data[\"Review\"].apply(lambda x: len(str(x).split(' '))))"
      ],
      "metadata": {
        "colab": {
          "base_uri": "https://localhost:8080/"
        },
        "id": "Wvnb4CToM-wH",
        "outputId": "8053293e-cfdc-47a6-a54e-345c7d4cc1bf"
      },
      "execution_count": 53,
      "outputs": [
        {
          "output_type": "stream",
          "name": "stdout",
          "text": [
            "Number of lines: 20491\n",
            "Possible rating numbers: [4 2 3 5 1]\n",
            "Max words in Review: "
          ]
        },
        {
          "output_type": "execute_result",
          "data": {
            "text/plain": [
              "1933"
            ]
          },
          "metadata": {},
          "execution_count": 53
        }
      ]
    },
    {
      "cell_type": "code",
      "source": [
        "reviewData = data[\"Review\"]\n",
        "\n",
        "tokenizer = Tokenizer()\n",
        "tokenizer.fit_on_texts(reviewData)\n",
        "reviewDataTokenized = tokenizer.texts_to_sequences(reviewData)\n",
        "\n",
        "example = 2\n",
        "vocab_size = len(tokenizer.word_index)+1\n",
        "\n",
        "print(\"Vocabulary size: {}\".format(vocab_size))\n",
        "print(\"max length of sentence: {}\".format(max([len(x) for x in reviewDataTokenized])))\n",
        "print(\"Example Sentence: {}\".format(reviewData[example]))\n",
        "print(\"After tokenizing : {}\".format(reviewDataTokenized[example]))\n",
        "\n",
        "reviewDataTokenized = pad_sequences(reviewDataTokenized, padding='post', maxlen=350)\n",
        "print(\"After padding : \\n{}\".format(reviewDataTokenized[example]))"
      ],
      "metadata": {
        "id": "xeqEoN_aWmH0"
      },
      "execution_count": null,
      "outputs": []
    },
    {
      "cell_type": "code",
      "source": [
        "encoding = {1: 0,\n",
        "            2: 1,\n",
        "            3: 2,\n",
        "            4: 3,\n",
        "            5: 4\n",
        "           }\n",
        "\n",
        "labels = ['1', '2', '3', '4', '5']\n",
        "           \n",
        "y = data['Rating'].copy()\n",
        "y.replace(encoding, inplace=True)"
      ],
      "metadata": {
        "id": "7EM-wBR-j9Ne"
      },
      "execution_count": 88,
      "outputs": []
    },
    {
      "cell_type": "code",
      "source": [
        "from re import X\n",
        "from sklearn.model_selection import train_test_split\n",
        "\n",
        "X_train, X_test, y_train, y_test = train_test_split(\n",
        "    reviewDataTokenized, y, test_size=0.33, random_state=67, stratify=y\n",
        ")\n",
        "\n",
        "print(len(X_train))\n",
        "print(len(X_test))\n",
        "print(len(y_train))\n",
        "print(len(y_test))"
      ],
      "metadata": {
        "colab": {
          "base_uri": "https://localhost:8080/"
        },
        "id": "PwAwiCxuiXiI",
        "outputId": "b20a557d-3a44-459c-bc09-2cf655dc652f"
      },
      "execution_count": 89,
      "outputs": [
        {
          "output_type": "stream",
          "name": "stdout",
          "text": [
            "13728\n",
            "6763\n",
            "13728\n",
            "6763\n"
          ]
        }
      ]
    },
    {
      "cell_type": "code",
      "source": [
        "import tensorflow.keras.layers as L\n",
        "from tensorflow.keras.losses import SparseCategoricalCrossentropy\n",
        "from tensorflow.keras.optimizers import Adam\n",
        "\n",
        "# hyper parameters\n",
        "EPOCHS = 3\n",
        "BATCH_SIZE = 100\n",
        "embedding_dim = 16\n",
        "units = 76\n",
        "\n",
        "model = tf.keras.Sequential([\n",
        "    L.Embedding(vocab_size, embedding_dim, input_length=reviewDataTokenized.shape[1]),\n",
        "    L.Bidirectional(L.LSTM(units,return_sequences=True)),\n",
        "    #L.LSTM(units,return_sequences=True),\n",
        "    L.Conv1D(64,3),\n",
        "    L.MaxPool1D(),\n",
        "    L.Flatten(),\n",
        "    L.Dropout(0.5),\n",
        "    L.Dense(128, activation=\"relu\"),\n",
        "    L.Dropout(0.5),\n",
        "    L.Dense(64, activation=\"relu\"),\n",
        "    L.Dropout(0.5),\n",
        "    L.Dense(5, activation=\"softmax\")\n",
        "])\n",
        "\n",
        "\n",
        "model.compile(loss=SparseCategoricalCrossentropy(),\n",
        "              optimizer='adam',metrics=['accuracy']\n",
        "             )\n",
        "\n",
        "model.summary()"
      ],
      "metadata": {
        "colab": {
          "base_uri": "https://localhost:8080/"
        },
        "id": "lqjrvbXriyFg",
        "outputId": "30f5f86d-5b6e-4f99-a7d7-79fee7b13808"
      },
      "execution_count": 90,
      "outputs": [
        {
          "output_type": "stream",
          "name": "stdout",
          "text": [
            "Model: \"sequential_3\"\n",
            "_________________________________________________________________\n",
            " Layer (type)                Output Shape              Param #   \n",
            "=================================================================\n",
            " embedding_3 (Embedding)     (None, 350, 16)           835392    \n",
            "                                                                 \n",
            " bidirectional_3 (Bidirectio  (None, 350, 152)         56544     \n",
            " nal)                                                            \n",
            "                                                                 \n",
            " conv1d_3 (Conv1D)           (None, 348, 64)           29248     \n",
            "                                                                 \n",
            " max_pooling1d_3 (MaxPooling  (None, 174, 64)          0         \n",
            " 1D)                                                             \n",
            "                                                                 \n",
            " flatten_3 (Flatten)         (None, 11136)             0         \n",
            "                                                                 \n",
            " dropout_9 (Dropout)         (None, 11136)             0         \n",
            "                                                                 \n",
            " dense_9 (Dense)             (None, 128)               1425536   \n",
            "                                                                 \n",
            " dropout_10 (Dropout)        (None, 128)               0         \n",
            "                                                                 \n",
            " dense_10 (Dense)            (None, 64)                8256      \n",
            "                                                                 \n",
            " dropout_11 (Dropout)        (None, 64)                0         \n",
            "                                                                 \n",
            " dense_11 (Dense)            (None, 5)                 325       \n",
            "                                                                 \n",
            "=================================================================\n",
            "Total params: 2,355,301\n",
            "Trainable params: 2,355,301\n",
            "Non-trainable params: 0\n",
            "_________________________________________________________________\n"
          ]
        }
      ]
    },
    {
      "cell_type": "code",
      "source": [
        "history = model.fit(X_train, y_train, epochs=EPOCHS, validation_split=0.12, batch_size=BATCH_SIZE, verbose=2)"
      ],
      "metadata": {
        "colab": {
          "base_uri": "https://localhost:8080/"
        },
        "id": "4TPAky06jfM_",
        "outputId": "c86239c6-2dff-4c53-b832-2a96d91b0efc"
      },
      "execution_count": null,
      "outputs": [
        {
          "output_type": "stream",
          "name": "stdout",
          "text": [
            "Epoch 1/3\n"
          ]
        }
      ]
    }
  ]
}